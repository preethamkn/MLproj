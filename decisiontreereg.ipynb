{
 "cells": [
  {
   "cell_type": "code",
   "execution_count": 2,
   "metadata": {
    "colab": {},
    "colab_type": "code",
    "id": "m0gEHdf9VneN"
   },
   "outputs": [],
   "source": [
    "import pandas as pd \n",
    "import numpy as np\n",
    "from pandas.plotting import scatter_matrix \n",
    "import matplotlib.pyplot as plt \n",
    "from sklearn import model_selection \n",
    "from sklearn.metrics import classification_report, confusion_matrix, accuracy_score \n",
    "from sklearn.linear_model import LogisticRegression\n",
    "from sklearn.tree import DecisionTreeClassifier \n",
    "from sklearn.neighbors import KNeighborsClassifier \n",
    "import datetime\n",
    "\n",
    "from sklearn.preprocessing import StandardScaler\n",
    "from sklearn.discriminant_analysis import LinearDiscriminantAnalysis\n",
    "from sklearn.tree import DecisionTreeRegressor\n",
    "from sklearn.model_selection import train_test_split\n",
    "from sklearn.metrics import mean_squared_error"
   ]
  },
  {
   "cell_type": "code",
   "execution_count": 3,
   "metadata": {
    "colab": {},
    "colab_type": "code",
    "id": "VMSoa-bwVned"
   },
   "outputs": [],
   "source": [
    "train = pd.read_csv('Computers2.csv')"
   ]
  },
  {
   "cell_type": "code",
   "execution_count": 4,
   "metadata": {
    "colab": {
     "base_uri": "https://localhost:8080/",
     "height": 156
    },
    "colab_type": "code",
    "executionInfo": {
     "elapsed": 586,
     "status": "ok",
     "timestamp": 1564737302286,
     "user": {
      "displayName": "preetham K N",
      "photoUrl": "",
      "userId": "03225628473095028225"
     },
     "user_tz": -330
    },
    "id": "rHVDwpXeVnep",
    "outputId": "3958c017-c219-4865-8720-905c40dfcc3e"
   },
   "outputs": [
    {
     "data": {
      "text/plain": [
       "price      0\n",
       "speed      0\n",
       "hd         0\n",
       "ram        0\n",
       "screen     0\n",
       "cd         0\n",
       "premium    0\n",
       "dtype: int64"
      ]
     },
     "execution_count": 4,
     "metadata": {},
     "output_type": "execute_result"
    }
   ],
   "source": [
    "train.isnull().sum()"
   ]
  },
  {
   "cell_type": "code",
   "execution_count": 5,
   "metadata": {
    "colab": {
     "base_uri": "https://localhost:8080/",
     "height": 206
    },
    "colab_type": "code",
    "executionInfo": {
     "elapsed": 805,
     "status": "ok",
     "timestamp": 1564737303806,
     "user": {
      "displayName": "preetham K N",
      "photoUrl": "",
      "userId": "03225628473095028225"
     },
     "user_tz": -330
    },
    "id": "VgSDMmiEVne1",
    "outputId": "e660f7d0-4f5a-4247-ee37-d99b3eaf42e9"
   },
   "outputs": [
    {
     "data": {
      "text/html": [
       "<div>\n",
       "<style scoped>\n",
       "    .dataframe tbody tr th:only-of-type {\n",
       "        vertical-align: middle;\n",
       "    }\n",
       "\n",
       "    .dataframe tbody tr th {\n",
       "        vertical-align: top;\n",
       "    }\n",
       "\n",
       "    .dataframe thead th {\n",
       "        text-align: right;\n",
       "    }\n",
       "</style>\n",
       "<table border=\"1\" class=\"dataframe\">\n",
       "  <thead>\n",
       "    <tr style=\"text-align: right;\">\n",
       "      <th></th>\n",
       "      <th>price</th>\n",
       "      <th>speed</th>\n",
       "      <th>hd</th>\n",
       "      <th>ram</th>\n",
       "      <th>screen</th>\n",
       "      <th>cd</th>\n",
       "      <th>premium</th>\n",
       "    </tr>\n",
       "  </thead>\n",
       "  <tbody>\n",
       "    <tr>\n",
       "      <th>0</th>\n",
       "      <td>1499</td>\n",
       "      <td>25</td>\n",
       "      <td>80</td>\n",
       "      <td>4</td>\n",
       "      <td>14</td>\n",
       "      <td>no</td>\n",
       "      <td>yes</td>\n",
       "    </tr>\n",
       "    <tr>\n",
       "      <th>1</th>\n",
       "      <td>1795</td>\n",
       "      <td>33</td>\n",
       "      <td>85</td>\n",
       "      <td>2</td>\n",
       "      <td>14</td>\n",
       "      <td>no</td>\n",
       "      <td>yes</td>\n",
       "    </tr>\n",
       "    <tr>\n",
       "      <th>2</th>\n",
       "      <td>1595</td>\n",
       "      <td>25</td>\n",
       "      <td>170</td>\n",
       "      <td>4</td>\n",
       "      <td>15</td>\n",
       "      <td>no</td>\n",
       "      <td>yes</td>\n",
       "    </tr>\n",
       "    <tr>\n",
       "      <th>3</th>\n",
       "      <td>1849</td>\n",
       "      <td>25</td>\n",
       "      <td>170</td>\n",
       "      <td>8</td>\n",
       "      <td>14</td>\n",
       "      <td>no</td>\n",
       "      <td>no</td>\n",
       "    </tr>\n",
       "    <tr>\n",
       "      <th>4</th>\n",
       "      <td>3295</td>\n",
       "      <td>33</td>\n",
       "      <td>340</td>\n",
       "      <td>16</td>\n",
       "      <td>14</td>\n",
       "      <td>no</td>\n",
       "      <td>yes</td>\n",
       "    </tr>\n",
       "  </tbody>\n",
       "</table>\n",
       "</div>"
      ],
      "text/plain": [
       "   price  speed   hd  ram  screen  cd premium\n",
       "0   1499     25   80    4      14  no     yes\n",
       "1   1795     33   85    2      14  no     yes\n",
       "2   1595     25  170    4      15  no     yes\n",
       "3   1849     25  170    8      14  no      no\n",
       "4   3295     33  340   16      14  no     yes"
      ]
     },
     "execution_count": 5,
     "metadata": {},
     "output_type": "execute_result"
    }
   ],
   "source": [
    "train.head()"
   ]
  },
  {
   "cell_type": "code",
   "execution_count": 6,
   "metadata": {
    "colab": {
     "base_uri": "https://localhost:8080/",
     "height": 86
    },
    "colab_type": "code",
    "executionInfo": {
     "elapsed": 601,
     "status": "ok",
     "timestamp": 1564737305148,
     "user": {
      "displayName": "preetham K N",
      "photoUrl": "",
      "userId": "03225628473095028225"
     },
     "user_tz": -330
    },
    "id": "DiDSamOzVnfB",
    "outputId": "da4b01cc-3146-4025-cb08-40ed7c759f53"
   },
   "outputs": [
    {
     "name": "stdout",
     "output_type": "stream",
     "text": [
      "premium\n",
      "no       82\n",
      "yes    1417\n",
      "dtype: int64\n"
     ]
    }
   ],
   "source": [
    "df_train = pd.DataFrame()\n",
    "print((train.groupby('premium')).size())"
   ]
  },
  {
   "cell_type": "code",
   "execution_count": 7,
   "metadata": {
    "colab": {},
    "colab_type": "code",
    "id": "gg59PiRqVnfI"
   },
   "outputs": [],
   "source": [
    "prem={'yes':0,'no':1}\n",
    "cd_c={'yes':0,'no':1}"
   ]
  },
  {
   "cell_type": "code",
   "execution_count": 8,
   "metadata": {
    "colab": {},
    "colab_type": "code",
    "id": "8OD3iX-2VnfP"
   },
   "outputs": [],
   "source": [
    "def clean_prem(x):\n",
    "    return prem[x]\n",
    "def clean_cd_c(x):\n",
    "    return cd_c[x]"
   ]
  },
  {
   "cell_type": "code",
   "execution_count": 9,
   "metadata": {
    "colab": {},
    "colab_type": "code",
    "id": "h68o80r-VnfW"
   },
   "outputs": [],
   "source": [
    "df_train['price']=train['price']\n",
    "df_train['speed']=train['speed']\n",
    "df_train['hd']=train['hd']\n",
    "df_train['ram']=train['ram']\n",
    "df_train['screen']=train['screen']\n",
    "df_train['cd']=train['cd'].apply(clean_cd_c)\n",
    "df_train['premium']=train['premium'].apply(clean_prem)"
   ]
  },
  {
   "cell_type": "code",
   "execution_count": 10,
   "metadata": {
    "colab": {
     "base_uri": "https://localhost:8080/",
     "height": 206
    },
    "colab_type": "code",
    "executionInfo": {
     "elapsed": 881,
     "status": "ok",
     "timestamp": 1564737325113,
     "user": {
      "displayName": "preetham K N",
      "photoUrl": "",
      "userId": "03225628473095028225"
     },
     "user_tz": -330
    },
    "id": "4DvH49hDVnfd",
    "outputId": "d2e6ac0e-4c34-4081-eafb-f8cd47656fa5"
   },
   "outputs": [
    {
     "data": {
      "text/html": [
       "<div>\n",
       "<style scoped>\n",
       "    .dataframe tbody tr th:only-of-type {\n",
       "        vertical-align: middle;\n",
       "    }\n",
       "\n",
       "    .dataframe tbody tr th {\n",
       "        vertical-align: top;\n",
       "    }\n",
       "\n",
       "    .dataframe thead th {\n",
       "        text-align: right;\n",
       "    }\n",
       "</style>\n",
       "<table border=\"1\" class=\"dataframe\">\n",
       "  <thead>\n",
       "    <tr style=\"text-align: right;\">\n",
       "      <th></th>\n",
       "      <th>price</th>\n",
       "      <th>speed</th>\n",
       "      <th>hd</th>\n",
       "      <th>ram</th>\n",
       "      <th>screen</th>\n",
       "      <th>cd</th>\n",
       "      <th>premium</th>\n",
       "    </tr>\n",
       "  </thead>\n",
       "  <tbody>\n",
       "    <tr>\n",
       "      <th>0</th>\n",
       "      <td>1499</td>\n",
       "      <td>25</td>\n",
       "      <td>80</td>\n",
       "      <td>4</td>\n",
       "      <td>14</td>\n",
       "      <td>1</td>\n",
       "      <td>0</td>\n",
       "    </tr>\n",
       "    <tr>\n",
       "      <th>1</th>\n",
       "      <td>1795</td>\n",
       "      <td>33</td>\n",
       "      <td>85</td>\n",
       "      <td>2</td>\n",
       "      <td>14</td>\n",
       "      <td>1</td>\n",
       "      <td>0</td>\n",
       "    </tr>\n",
       "    <tr>\n",
       "      <th>2</th>\n",
       "      <td>1595</td>\n",
       "      <td>25</td>\n",
       "      <td>170</td>\n",
       "      <td>4</td>\n",
       "      <td>15</td>\n",
       "      <td>1</td>\n",
       "      <td>0</td>\n",
       "    </tr>\n",
       "    <tr>\n",
       "      <th>3</th>\n",
       "      <td>1849</td>\n",
       "      <td>25</td>\n",
       "      <td>170</td>\n",
       "      <td>8</td>\n",
       "      <td>14</td>\n",
       "      <td>1</td>\n",
       "      <td>1</td>\n",
       "    </tr>\n",
       "    <tr>\n",
       "      <th>4</th>\n",
       "      <td>3295</td>\n",
       "      <td>33</td>\n",
       "      <td>340</td>\n",
       "      <td>16</td>\n",
       "      <td>14</td>\n",
       "      <td>1</td>\n",
       "      <td>0</td>\n",
       "    </tr>\n",
       "  </tbody>\n",
       "</table>\n",
       "</div>"
      ],
      "text/plain": [
       "   price  speed   hd  ram  screen  cd  premium\n",
       "0   1499     25   80    4      14   1        0\n",
       "1   1795     33   85    2      14   1        0\n",
       "2   1595     25  170    4      15   1        0\n",
       "3   1849     25  170    8      14   1        1\n",
       "4   3295     33  340   16      14   1        0"
      ]
     },
     "execution_count": 10,
     "metadata": {},
     "output_type": "execute_result"
    }
   ],
   "source": [
    "df_train.head()"
   ]
  },
  {
   "cell_type": "code",
   "execution_count": 11,
   "metadata": {
    "colab": {
     "base_uri": "https://localhost:8080/",
     "height": 34
    },
    "colab_type": "code",
    "executionInfo": {
     "elapsed": 911,
     "status": "ok",
     "timestamp": 1564737330911,
     "user": {
      "displayName": "preetham K N",
      "photoUrl": "",
      "userId": "03225628473095028225"
     },
     "user_tz": -330
    },
    "id": "gjS4VNtYVnfl",
    "outputId": "d776c6c2-1ad9-495a-fe2f-dff809d6913e"
   },
   "outputs": [
    {
     "name": "stdout",
     "output_type": "stream",
     "text": [
      "(1499, 7)\n"
     ]
    }
   ],
   "source": [
    "print(df_train.shape)"
   ]
  },
  {
   "cell_type": "code",
   "execution_count": 12,
   "metadata": {
    "colab": {
     "base_uri": "https://localhost:8080/",
     "height": 208
    },
    "colab_type": "code",
    "executionInfo": {
     "elapsed": 819,
     "status": "ok",
     "timestamp": 1564737334209,
     "user": {
      "displayName": "preetham K N",
      "photoUrl": "",
      "userId": "03225628473095028225"
     },
     "user_tz": -330
    },
    "id": "lk5hLo4rVnft",
    "outputId": "e5b8724e-bdc5-4664-9732-c4419fa99afd"
   },
   "outputs": [
    {
     "name": "stdout",
     "output_type": "stream",
     "text": [
      "             price        speed           hd          ram       screen  \\\n",
      "count  1499.000000  1499.000000  1499.000000  1499.000000  1499.000000   \n",
      "mean   2369.602402    44.272849   269.726484     7.012675    14.422949   \n",
      "std     624.745680    15.371010   150.546512     4.258249     0.787863   \n",
      "min     999.000000    25.000000    80.000000     2.000000    14.000000   \n",
      "25%    1899.000000    33.000000   170.000000     4.000000    14.000000   \n",
      "50%    2295.000000    33.000000   245.000000     8.000000    14.000000   \n",
      "75%    2720.000000    66.000000   340.000000     8.000000    15.000000   \n",
      "max    4999.000000    66.000000  1370.000000    16.000000    17.000000   \n",
      "\n",
      "                cd      premium  \n",
      "count  1499.000000  1499.000000  \n",
      "mean      0.845230     0.054703  \n",
      "std       0.361806     0.227476  \n",
      "min       0.000000     0.000000  \n",
      "25%       1.000000     0.000000  \n",
      "50%       1.000000     0.000000  \n",
      "75%       1.000000     0.000000  \n",
      "max       1.000000     1.000000  \n"
     ]
    }
   ],
   "source": [
    "print(df_train.describe()) "
   ]
  },
  {
   "cell_type": "code",
   "execution_count": 13,
   "metadata": {
    "colab": {
     "base_uri": "https://localhost:8080/",
     "height": 86
    },
    "colab_type": "code",
    "executionInfo": {
     "elapsed": 1582,
     "status": "ok",
     "timestamp": 1564737337746,
     "user": {
      "displayName": "preetham K N",
      "photoUrl": "",
      "userId": "03225628473095028225"
     },
     "user_tz": -330
    },
    "id": "aqdn3MVPVnf1",
    "outputId": "e050373b-8151-4c0f-b5a5-880c4bcf9ff4"
   },
   "outputs": [
    {
     "name": "stdout",
     "output_type": "stream",
     "text": [
      "premium\n",
      "0    1417\n",
      "1      82\n",
      "dtype: int64\n"
     ]
    }
   ],
   "source": [
    "print((df_train.groupby('premium')).size())"
   ]
  },
  {
   "cell_type": "code",
   "execution_count": 14,
   "metadata": {
    "colab": {
     "base_uri": "https://localhost:8080/",
     "height": 312
    },
    "colab_type": "code",
    "executionInfo": {
     "elapsed": 1255,
     "status": "ok",
     "timestamp": 1564737343232,
     "user": {
      "displayName": "preetham K N",
      "photoUrl": "",
      "userId": "03225628473095028225"
     },
     "user_tz": -330
    },
    "id": "lgtNcZUJVnf8",
    "outputId": "4674020a-388b-4b9a-a184-3c9d2ff80d22"
   },
   "outputs": [
    {
     "data": {
      "text/plain": [
       "[]"
      ]
     },
     "execution_count": 14,
     "metadata": {},
     "output_type": "execute_result"
    },
    {
     "data": {
      "image/png": "[encoded data removed]",
      "text/plain": [
       "<Figure size 432x288 with 1 Axes>"
      ]
     },
     "metadata": {
      "needs_background": "light"
     },
     "output_type": "display_data"
    }
   ],
   "source": [
    "plt.scatter(df_train['hd'], df_train['price'])\n",
    "plt.title('hd v/s Price Graph')\n",
    "plt.xlabel('hd')\n",
    "plt.ylabel('price')\n",
    "plt.plot()"
   ]
  },
  {
   "cell_type": "code",
   "execution_count": 15,
   "metadata": {
    "colab": {
     "base_uri": "https://localhost:8080/",
     "height": 139
    },
    "colab_type": "code",
    "executionInfo": {
     "elapsed": 872,
     "status": "ok",
     "timestamp": 1564737373507,
     "user": {
      "displayName": "preetham K N",
      "photoUrl": "",
      "userId": "03225628473095028225"
     },
     "user_tz": -330
    },
    "id": "nkXEyQ_VVngB",
    "outputId": "b4a8f63b-f30d-4f9a-f1b1-1fd7a9e687aa"
   },
   "outputs": [
    {
     "name": "stdout",
     "output_type": "stream",
     "text": [
      "[[1499]\n",
      " [1795]\n",
      " [1595]\n",
      " ...\n",
      " [2895]\n",
      " [2029]\n",
      " [1699]]\n"
     ]
    }
   ],
   "source": [
    "Y = df_train.iloc[:,:-6].values\n",
    "Y.astype('int')\n",
    "print(Y)"
   ]
  },
  {
   "cell_type": "code",
   "execution_count": 16,
   "metadata": {
    "colab": {
     "base_uri": "https://localhost:8080/",
     "height": 139
    },
    "colab_type": "code",
    "executionInfo": {
     "elapsed": 823,
     "status": "ok",
     "timestamp": 1564737377456,
     "user": {
      "displayName": "preetham K N",
      "photoUrl": "",
      "userId": "03225628473095028225"
     },
     "user_tz": -330
    },
    "id": "pMfFyVjAVngH",
    "outputId": "6fcd08a7-c2cb-4ede-9303-42d53e8e39c6"
   },
   "outputs": [
    {
     "name": "stdout",
     "output_type": "stream",
     "text": [
      "[[ 25  80   4  14   1   0]\n",
      " [ 33  85   2  14   1   0]\n",
      " [ 25 170   4  15   1   0]\n",
      " ...\n",
      " [ 50 528  16  14   1   0]\n",
      " [ 33 120   4  14   1   1]\n",
      " [ 33 210   4  15   1   0]]\n"
     ]
    }
   ],
   "source": [
    "df_train1 = df_train.copy()\n",
    "del df_train1['price']\n",
    "\n",
    "X=df_train1.iloc[::].values\n",
    "print(X)"
   ]
  },
  {
   "cell_type": "code",
   "execution_count": 17,
   "metadata": {
    "colab": {
     "base_uri": "https://localhost:8080/",
     "height": 139
    },
    "colab_type": "code",
    "executionInfo": {
     "elapsed": 916,
     "status": "ok",
     "timestamp": 1564737380402,
     "user": {
      "displayName": "preetham K N",
      "photoUrl": "",
      "userId": "03225628473095028225"
     },
     "user_tz": -330
    },
    "id": "CTr5u05CVngN",
    "outputId": "0d3633d0-1048-44c5-c7d4-14c614371fe1"
   },
   "outputs": [
    {
     "name": "stdout",
     "output_type": "stream",
     "text": [
      "[[-1.2542624  -1.26067219 -0.70772767 -0.53700937  0.4279132  -0.24055922]\n",
      " [-0.73362845 -1.22744878 -1.17756105 -0.53700937  0.4279132  -0.24055922]\n",
      " [-1.2542624  -0.66265079 -0.70772767  0.73267051  0.4279132  -0.24055922]\n",
      " ...\n",
      " [ 0.37271868  1.71614542  2.11127262 -0.53700937  0.4279132  -0.24055922]\n",
      " [-0.73362845 -0.9948849  -0.70772767 -0.53700937  0.4279132   4.15698061]\n",
      " [-0.73362845 -0.39686351 -0.70772767  0.73267051  0.4279132  -0.24055922]]\n"
     ]
    }
   ],
   "source": [
    "std_x = StandardScaler()\n",
    "std_y = StandardScaler()\n",
    "X = std_x.fit_transform(X)\n",
    "Y = std_y.fit_transform(Y)\n",
    "print(X)"
   ]
  },
  {
   "cell_type": "code",
   "execution_count": 18,
   "metadata": {
    "colab": {
     "base_uri": "https://localhost:8080/",
     "height": 139
    },
    "colab_type": "code",
    "executionInfo": {
     "elapsed": 1069,
     "status": "ok",
     "timestamp": 1564737382867,
     "user": {
      "displayName": "preetham K N",
      "photoUrl": "",
      "userId": "03225628473095028225"
     },
     "user_tz": -330
    },
    "id": "pCZKV10oVngT",
    "outputId": "5327b434-0797-4d4d-87f0-f06d1733948e",
    "scrolled": true
   },
   "outputs": [
    {
     "name": "stdout",
     "output_type": "stream",
     "text": [
      "[[-0.73362845 -0.13107622 -0.70772767 -0.53700937 -2.33692253 -0.24055922]\n",
      " [-0.73362845 -0.39686351 -0.70772767  3.27203026  0.4279132  -0.24055922]\n",
      " [ 0.37271868 -1.08126577 -1.17756105 -0.53700937  0.4279132  -0.24055922]\n",
      " ...\n",
      " [ 1.41398657  1.53009432  0.23193909 -0.53700937 -2.33692253 -0.24055922]\n",
      " [-0.73362845 -0.66265079 -0.70772767 -0.53700937  0.4279132  -0.24055922]\n",
      " [ 1.41398657  0.46694518  0.23193909  0.73267051  0.4279132  -0.24055922]]\n"
     ]
    }
   ],
   "source": [
    "train_X, test_X, train_Y, test_Y = train_test_split(X, Y, test_size=0.20, random_state=20)\n",
    "print(train_X)"
   ]
  },
  {
   "cell_type": "code",
   "execution_count": 19,
   "metadata": {
    "colab": {
     "base_uri": "https://localhost:8080/",
     "height": 139
    },
    "colab_type": "code",
    "executionInfo": {
     "elapsed": 864,
     "status": "ok",
     "timestamp": 1564737386187,
     "user": {
      "displayName": "preetham K N",
      "photoUrl": "",
      "userId": "03225628473095028225"
     },
     "user_tz": -330
    },
    "id": "E4G3smODVnga",
    "outputId": "ff8a9628-958a-4acc-af60-e7356f213df4"
   },
   "outputs": [
    {
     "name": "stdout",
     "output_type": "stream",
     "text": [
      "[[-0.73362845 -1.08126577 -1.17756105 -0.53700937 -2.33692253 -0.24055922]\n",
      " [ 0.37271868  0.46694518  2.11127262 -0.53700937  0.4279132  -0.24055922]\n",
      " [ 0.37271868  0.46694518  0.23193909  0.73267051  0.4279132  -0.24055922]\n",
      " ...\n",
      " [ 0.37271868 -0.13107622  0.23193909  0.73267051  0.4279132  -0.24055922]\n",
      " [-0.73362845 -0.66265079 -0.70772767 -0.53700937  0.4279132  -0.24055922]\n",
      " [-0.73362845 -0.13107622  0.23193909  3.27203026  0.4279132  -0.24055922]]\n"
     ]
    }
   ],
   "source": [
    "print(test_X)"
   ]
  },
  {
   "cell_type": "code",
   "execution_count": 20,
   "metadata": {
    "colab": {
     "base_uri": "https://localhost:8080/",
     "height": 139
    },
    "colab_type": "code",
    "executionInfo": {
     "elapsed": 891,
     "status": "ok",
     "timestamp": 1564737387909,
     "user": {
      "displayName": "preetham K N",
      "photoUrl": "",
      "userId": "03225628473095028225"
     },
     "user_tz": -330
    },
    "id": "glIJJ-OpVngf",
    "outputId": "96227bb0-4e07-4ecc-8e59-ff92e2fd3424"
   },
   "outputs": [
    {
     "name": "stdout",
     "output_type": "stream",
     "text": [
      "[[-0.80796205]\n",
      " [ 0.56905748]\n",
      " [-1.08016358]\n",
      " ...\n",
      " [ 2.6425927 ]\n",
      " [-0.75992648]\n",
      " [ 0.52742666]]\n"
     ]
    }
   ],
   "source": [
    "print(train_Y)"
   ]
  },
  {
   "cell_type": "code",
   "execution_count": 21,
   "metadata": {
    "colab": {
     "base_uri": "https://localhost:8080/",
     "height": 1000
    },
    "colab_type": "code",
    "executionInfo": {
     "elapsed": 565,
     "status": "ok",
     "timestamp": 1564737389180,
     "user": {
      "displayName": "preetham K N",
      "photoUrl": "",
      "userId": "03225628473095028225"
     },
     "user_tz": -330
    },
    "id": "6QCxcUusVngo",
    "outputId": "54361d64-00cb-4489-ffc1-fa4bf434fb70"
   },
   "outputs": [
    {
     "name": "stdout",
     "output_type": "stream",
     "text": [
      "[[-0.60140912]\n",
      " [ 0.84125901]\n",
      " [ 0.20718956]\n",
      " [ 1.83399402]\n",
      " [ 0.11912436]\n",
      " [ 0.08870183]\n",
      " [-0.76793241]\n",
      " [-0.12745821]\n",
      " [-0.92805096]\n",
      " [ 0.35289744]\n",
      " [-0.31159454]\n",
      " [ 0.52102192]\n",
      " [-0.07141672]\n",
      " [ 0.51301599]\n",
      " [ 0.56105155]\n",
      " [-1.15381811]\n",
      " [ 1.00137756]\n",
      " [-0.99369957]\n",
      " [-0.51174273]\n",
      " [ 0.03266034]\n",
      " [ 0.36730811]\n",
      " [-0.76793241]\n",
      " [ 1.32161466]\n",
      " [-1.40040068]\n",
      " [ 1.00137756]\n",
      " [-0.27957083]\n",
      " [-1.08016358]\n",
      " [ 0.59948   ]\n",
      " [ 0.19277889]\n",
      " [ 1.00137756]\n",
      " [-0.63183164]\n",
      " [-0.59340319]\n",
      " [-0.04099419]\n",
      " [ 0.78361634]\n",
      " [-0.8351822 ]\n",
      " [-0.19951156]\n",
      " [-0.11304754]\n",
      " [-1.24828806]\n",
      " [-1.72063778]\n",
      " [-1.39399594]\n",
      " [ 1.00137756]\n",
      " [-0.43328464]\n",
      " [-0.59340319]\n",
      " [ 0.51301599]\n",
      " [ 0.84766376]\n",
      " [ 0.03266034]\n",
      " [-0.03939301]\n",
      " [-0.27316609]\n",
      " [ 1.2399542 ]\n",
      " [ 0.83325309]\n",
      " [ 1.00778231]\n",
      " [-0.75352174]\n",
      " [ 0.36090337]\n",
      " [-1.16182404]\n",
      " [-1.72063778]\n",
      " [ 0.12713028]\n",
      " [ 0.0806959 ]\n",
      " [ 0.44096264]\n",
      " [-0.75352174]\n",
      " [-0.80796205]\n",
      " [ 0.16876111]\n",
      " [-0.27957083]\n",
      " [-0.92004503]\n",
      " [ 0.27924291]\n",
      " [ 0.51301599]\n",
      " [-1.37798408]\n",
      " [-0.11945228]\n",
      " [-0.43968938]\n",
      " [-0.51974866]\n",
      " [ 1.80197031]\n",
      " [-0.27316609]\n",
      " [ 0.04066627]\n",
      " [-0.51974866]\n",
      " [-2.11452941]\n",
      " [-0.43328464]\n",
      " [ 2.27271885]\n",
      " [-1.28511533]\n",
      " [-0.12745821]\n",
      " [ 0.99977638]\n",
      " [-0.05540486]\n",
      " [ 1.15349019]\n",
      " [ 0.20078482]\n",
      " [ 3.24303726]\n",
      " [ 1.32801941]\n",
      " [-1.40840661]\n",
      " [-0.41727279]\n",
      " [-0.55177237]\n",
      " [ 0.04066627]\n",
      " [-0.11945228]\n",
      " [ 0.85727087]\n",
      " [ 0.52102192]\n",
      " [ 0.66352742]\n",
      " [ 1.00137756]\n",
      " [ 0.60108119]\n",
      " [-1.24028213]\n",
      " [ 1.32001348]\n",
      " [-0.12105347]\n",
      " [-1.40040068]\n",
      " [ 0.9197171 ]\n",
      " [ 0.43936146]\n",
      " [ 2.44244451]\n",
      " [ 0.98536571]\n",
      " [-0.20111274]\n",
      " [ 0.56105155]\n",
      " [-0.44129057]\n",
      " [ 0.32887966]\n",
      " [ 0.04066627]\n",
      " [ 0.51942073]\n",
      " [ 0.99337164]\n",
      " [-0.92805096]\n",
      " [ 1.96208886]\n",
      " [ 0.51301599]\n",
      " [ 1.56659605]\n",
      " [ 0.15915399]\n",
      " [-0.27957083]\n",
      " [-1.2659011 ]\n",
      " [-0.05540486]\n",
      " [ 0.51301599]\n",
      " [ 0.4457662 ]\n",
      " [-0.92004503]\n",
      " [-0.91364029]\n",
      " [ 1.00137756]\n",
      " [ 1.64185176]\n",
      " [ 0.27924291]\n",
      " [-0.75352174]\n",
      " [ 0.51942073]\n",
      " [ 0.43936146]\n",
      " [ 0.36090337]\n",
      " [ 0.51942073]\n",
      " [-0.92004503]\n",
      " [-1.08016358]\n",
      " [-0.39165382]\n",
      " [ 0.20078482]\n",
      " [ 2.68742589]\n",
      " [ 0.67313454]\n",
      " [-0.92004503]\n",
      " [-0.91364029]\n",
      " [-0.11304754]\n",
      " [ 3.00766299]\n",
      " [-0.27957083]\n",
      " [-0.11304754]\n",
      " [-0.91364029]\n",
      " [-0.92004503]\n",
      " [-0.03458945]\n",
      " [-0.51974866]\n",
      " [ 0.36730811]\n",
      " [ 0.51301599]\n",
      " [-0.27957083]\n",
      " [ 0.0806959 ]\n",
      " [-1.07375884]\n",
      " [ 0.20558837]\n",
      " [ 0.60108119]\n",
      " [-0.8351822 ]\n",
      " [-1.07375884]\n",
      " [-0.60781386]\n",
      " [ 0.48899821]\n",
      " [-0.12745821]\n",
      " [-0.52134984]\n",
      " [ 0.35289744]\n",
      " [ 2.6425927 ]\n",
      " [ 1.00778231]\n",
      " [ 0.92131829]\n",
      " [-0.04099419]\n",
      " [-1.23387739]\n",
      " [-0.68146839]\n",
      " [-0.59340319]\n",
      " [-1.23387739]\n",
      " [ 0.59948   ]\n",
      " [ 0.60108119]\n",
      " [-1.16182404]\n",
      " [-0.76793241]\n",
      " [ 1.16629967]\n",
      " [ 0.36730811]\n",
      " [-1.55411449]\n",
      " [-0.68947432]\n",
      " [ 0.75959855]\n",
      " [-0.59340319]\n",
      " [-0.59500438]\n",
      " [ 1.09744869]\n",
      " [-0.06501198]\n",
      " [ 0.51301599]\n",
      " [ 0.05667812]\n",
      " [ 1.16790086]\n",
      " [-0.07141672]\n",
      " [ 0.24882038]\n",
      " [-0.76152767]\n",
      " [ 0.43936146]\n",
      " [ 0.04707101]\n",
      " [-0.43968938]\n",
      " [ 0.03266034]\n",
      " [-0.75992648]\n",
      " [-1.24028213]\n",
      " [ 0.9197171 ]\n",
      " [ 0.83325309]\n",
      " [-0.36123129]\n",
      " [-1.23387739]\n",
      " [ 0.04066627]\n",
      " [-0.07141672]\n",
      " [ 0.27924291]\n",
      " [-0.99369957]\n",
      " [-1.39399594]\n",
      " [-1.08816951]\n",
      " [ 0.20078482]\n",
      " [-0.71189092]\n",
      " [-0.28757676]\n",
      " [-0.92805096]\n",
      " [-0.59980793]\n",
      " [-0.59980793]\n",
      " [ 0.75959855]\n",
      " [ 2.44244451]\n",
      " [ 1.00778231]\n",
      " [-0.27316609]\n",
      " [-1.56051923]\n",
      " [-0.92004503]\n",
      " [-1.16182404]\n",
      " [ 0.23280853]\n",
      " [-1.55411449]\n",
      " [-0.11945228]\n",
      " [ 0.99337164]\n",
      " [ 1.80837506]\n",
      " [ 0.03906508]\n",
      " [-1.00010431]\n",
      " [-0.76793241]\n",
      " [ 0.11912436]\n",
      " [ 1.00137756]\n",
      " [-0.04099419]\n",
      " [ 0.43936146]\n",
      " [-0.56778422]\n",
      " [ 3.40315581]\n",
      " [ 1.00778231]\n",
      " [ 0.36090337]\n",
      " [-0.56778422]\n",
      " [-0.53576051]\n",
      " [ 0.83325309]\n",
      " [-0.27957083]\n",
      " [-0.47171309]\n",
      " [-0.04099419]\n",
      " [ 0.04707101]\n",
      " [-0.59980793]\n",
      " [-0.44769531]\n",
      " [ 1.08143684]\n",
      " [-0.27316609]\n",
      " [-0.92004503]\n",
      " [ 0.35129625]\n",
      " [-0.76793241]\n",
      " [ 0.04066627]\n",
      " [ 0.52102192]\n",
      " [-0.59980793]\n",
      " [-0.12745821]\n",
      " [-0.03939301]\n",
      " [ 0.52742666]\n",
      " [ 1.80197031]\n",
      " [ 0.52742666]\n",
      " [ 1.07983565]\n",
      " [-1.08816951]\n",
      " [-1.40840661]\n",
      " [-0.92004503]\n",
      " [-0.52134984]\n",
      " [ 0.52102192]\n",
      " [ 1.00778231]\n",
      " [-0.71989685]\n",
      " [-0.07141672]\n",
      " [-1.23387739]\n",
      " [-0.23153527]\n",
      " [ 0.68114047]\n",
      " [ 2.52730734]\n",
      " [-1.56051923]\n",
      " [-0.67986721]\n",
      " [-0.36123129]\n",
      " [-1.47405521]\n",
      " [-0.76793241]\n",
      " [ 3.00766299]\n",
      " [ 0.19277889]\n",
      " [-0.11945228]\n",
      " [ 2.44244451]\n",
      " [-0.28757676]\n",
      " [-0.75352174]\n",
      " [ 0.36730811]\n",
      " [ 2.27271885]\n",
      " [ 0.36730811]\n",
      " [ 0.32887966]\n",
      " [ 0.04707101]\n",
      " [ 0.03266034]\n",
      " [ 0.03266034]\n",
      " [-0.27957083]\n",
      " [-0.67986721]\n",
      " [ 0.68114047]\n",
      " [ 0.20078482]\n",
      " [ 1.64825651]\n",
      " [ 0.36090337]\n",
      " [-0.07141672]\n",
      " [-0.39165382]\n",
      " [-0.43328464]\n",
      " [-0.23153527]\n",
      " [-0.43968938]\n",
      " [-1.24028213]\n",
      " [-0.67986721]\n",
      " [ 0.20078482]\n",
      " [-0.91364029]\n",
      " [ 0.37691522]]\n"
     ]
    }
   ],
   "source": [
    "print(test_Y)"
   ]
  },
  {
   "cell_type": "code",
   "execution_count": 22,
   "metadata": {
    "colab": {},
    "colab_type": "code",
    "id": "3Y_gZLT8Vngu"
   },
   "outputs": [],
   "source": [
    "regressor = DecisionTreeRegressor()\n",
    "regressor.fit(train_X, train_Y)\n",
    "test_score= regressor.score(test_X, test_Y)\n",
    "training_score= regressor.score(train_X, train_Y)"
   ]
  },
  {
   "cell_type": "code",
   "execution_count": 23,
   "metadata": {
    "colab": {
     "base_uri": "https://localhost:8080/",
     "height": 52
    },
    "colab_type": "code",
    "executionInfo": {
     "elapsed": 553,
     "status": "ok",
     "timestamp": 1564737392826,
     "user": {
      "displayName": "preetham K N",
      "photoUrl": "",
      "userId": "03225628473095028225"
     },
     "user_tz": -330
    },
    "id": "8VvL7IHwVng3",
    "outputId": "bbcb51ea-6c07-4d0d-aab7-d54185314c1a"
   },
   "outputs": [
    {
     "name": "stdout",
     "output_type": "stream",
     "text": [
      "the training score is ..... 0.9268784015876407\n",
      "the testing score is ..... 0.8800377618697721\n"
     ]
    }
   ],
   "source": [
    "print(\"the training score is .....\" ,training_score)\n",
    "print(\"the testing score is .....\" ,test_score)"
   ]
  },
  {
   "cell_type": "code",
   "execution_count": 24,
   "metadata": {
    "colab": {},
    "colab_type": "code",
    "id": "E4ol6FMZVng9"
   },
   "outputs": [],
   "source": [
    "Y_pred =regressor.predict(test_X)\n",
    "rmse =np.sqrt(mean_squared_error(test_Y,Y_pred))"
   ]
  },
  {
   "cell_type": "code",
   "execution_count": 25,
   "metadata": {
    "colab": {
     "base_uri": "https://localhost:8080/",
     "height": 34
    },
    "colab_type": "code",
    "executionInfo": {
     "elapsed": 576,
     "status": "ok",
     "timestamp": 1564737395963,
     "user": {
      "displayName": "preetham K N",
      "photoUrl": "",
      "userId": "03225628473095028225"
     },
     "user_tz": -330
    },
    "id": "xll4svzVVnhF",
    "outputId": "b46aef00-e9e7-4a88-cd9e-92fbb921dc23"
   },
   "outputs": [
    {
     "name": "stdout",
     "output_type": "stream",
     "text": [
      "r2_score :  0.8800377618697721\n"
     ]
    }
   ],
   "source": [
    "from sklearn.metrics import r2_score\n",
    "r2 = r2_score(test_Y,Y_pred)\n",
    "print(\"r2_score : \",r2)"
   ]
  },
  {
   "cell_type": "code",
   "execution_count": 26,
   "metadata": {
    "colab": {
     "base_uri": "https://localhost:8080/",
     "height": 34
    },
    "colab_type": "code",
    "executionInfo": {
     "elapsed": 877,
     "status": "ok",
     "timestamp": 1564737404987,
     "user": {
      "displayName": "preetham K N",
      "photoUrl": "",
      "userId": "03225628473095028225"
     },
     "user_tz": -330
    },
    "id": "W6YsmhmZVnhV",
    "outputId": "bbb7075f-ac29-4bba-b5d8-d5d97fc51894"
   },
   "outputs": [
    {
     "name": "stdout",
     "output_type": "stream",
     "text": [
      "the Root Mean Square Error is ....  0.32764938163609797\n"
     ]
    }
   ],
   "source": [
    "print(\"the Root Mean Square Error is .... \",rmse)"
   ]
  },
  {
   "cell_type": "code",
   "execution_count": 68,
   "metadata": {
    "colab": {
     "base_uri": "https://localhost:8080/",
     "height": 353
    },
    "colab_type": "code",
    "executionInfo": {
     "elapsed": 1102,
     "status": "ok",
     "timestamp": 1564737407893,
     "user": {
      "displayName": "preetham K N",
      "photoUrl": "",
      "userId": "03225628473095028225"
     },
     "user_tz": -330
    },
    "id": "aTuC3rPMVnha",
    "outputId": "ca414f91-e28e-4896-c88c-f41aa276e3b6"
   },
   "outputs": [
    {
     "data": {
      "text/plain": [
       "Text(0.1, 7, 'Rmse = 0.317683 Score =0.9268784015876407')"
      ]
     },
     "execution_count": 68,
     "metadata": {},
     "output_type": "execute_result"
    },
    {
     "data": {
      "image/png": "[encoded data removed]",
      "text/plain": [
       "<Figure size 432x288 with 1 Axes>"
      ]
     },
     "metadata": {
      "needs_background": "light"
     },
     "output_type": "display_data"
    }
   ],
   "source": [
    "%matplotlib inline\n",
    "plt.scatter(train_Y,regressor.predict(train_X),color='red',label='model predicted curve')\n",
    "plt.title('training set with whole feature')\n",
    "plt.xlabel('actual values of price')\n",
    "plt.ylabel('predicted value of price')\n",
    "plt.legend(loc='upper left')\n",
    "plt.text(0.1,7, 'Rmse = %f Score =%s' %(rmse,training_score))"
   ]
  },
  {
   "cell_type": "code",
   "execution_count": 69,
   "metadata": {
    "colab": {
     "base_uri": "https://localhost:8080/",
     "height": 353
    },
    "colab_type": "code",
    "executionInfo": {
     "elapsed": 1198,
     "status": "ok",
     "timestamp": 1564737410395,
     "user": {
      "displayName": "preetham K N",
      "photoUrl": "",
      "userId": "03225628473095028225"
     },
     "user_tz": -330
    },
    "id": "OLYVvFDOVnhf",
    "outputId": "cdf2cf2e-4359-4c13-866c-5c950e67b7dd"
   },
   "outputs": [
    {
     "data": {
      "image/png": "[encoded data removed]",
      "text/plain": [
       "<Figure size 432x288 with 1 Axes>"
      ]
     },
     "metadata": {
      "needs_background": "light"
     },
     "output_type": "display_data"
    }
   ],
   "source": [
    "plt.scatter(test_Y,regressor.predict(test_X),color='blue',label='model predicted curve')\n",
    "plt.title('whole data testing data')\n",
    "plt.xlabel('actual value of price')\n",
    "plt.ylabel('predicted value of price')\n",
    "plt.xlim(-10, 10)\n",
    "plt.tight_layout()\n",
    "plt.legend(loc='upper left')\n",
    "plt.text(0.1,7, 'Rmse = %f \\n Score =%s' %(rmse,test_score))\n",
    "\n",
    "plt.show()"
   ]
  },
  {
   "cell_type": "code",
   "execution_count": null,
   "metadata": {},
   "outputs": [],
   "source": []
  }
 ],
 "metadata": {
  "colab": {
   "name": "decisiontreereg.ipynb",
   "provenance": [],
   "version": "0.3.2"
  },
  "kernelspec": {
   "display_name": "Python 3",
   "language": "python",
   "name": "python3"
  },
  "language_info": {
   "codemirror_mode": {
    "name": "ipython",
    "version": 3
   },
   "file_extension": ".py",
   "mimetype": "text/x-python",
   "name": "python",
   "nbconvert_exporter": "python",
   "pygments_lexer": "ipython3",
   "version": "3.7.4"
  }
 },
 "nbformat": 4,
 "nbformat_minor": 1
}
