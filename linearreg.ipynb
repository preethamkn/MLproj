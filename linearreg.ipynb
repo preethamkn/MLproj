{
 "cells": [
  {
   "cell_type": "code",
   "execution_count": 1,
   "metadata": {
    "colab": {},
    "colab_type": "code",
    "id": "SulakmO6-S7L"
   },
   "outputs": [],
   "source": [
    "import pandas as pd \n",
    "import numpy as np\n",
    "from pandas.plotting import scatter_matrix \n",
    "import matplotlib.pyplot as plt \n",
    "from sklearn import model_selection \n",
    "from sklearn.metrics import classification_report, confusion_matrix, accuracy_score \n",
    "from sklearn.linear_model import LogisticRegression\n",
    "from sklearn.tree import DecisionTreeClassifier \n",
    "from sklearn.neighbors import KNeighborsClassifier \n",
    "import datetime\n",
    "from sklearn.linear_model import LinearRegression\n",
    "from sklearn.preprocessing import StandardScaler\n",
    "from sklearn.discriminant_analysis import LinearDiscriminantAnalysis\n",
    "from sklearn.tree import DecisionTreeRegressor\n",
    "from sklearn.model_selection import train_test_split\n",
    "from sklearn.metrics import mean_squared_error"
   ]
  },
  {
   "cell_type": "code",
   "execution_count": 3,
   "metadata": {
    "colab": {},
    "colab_type": "code",
    "id": "BvXyn5Hs-S7X"
   },
   "outputs": [],
   "source": [
    "train = pd.read_csv('Computers2.csv')"
   ]
  },
  {
   "cell_type": "code",
   "execution_count": 4,
   "metadata": {
    "colab": {
     "base_uri": "https://localhost:8080/",
     "height": 156
    },
    "colab_type": "code",
    "executionInfo": {
     "elapsed": 1433,
     "status": "ok",
     "timestamp": 1564642902397,
     "user": {
      "displayName": "Anoop J",
      "photoUrl": "https://lh5.googleusercontent.com/-QjbdpwGYDpI/AAAAAAAAAAI/AAAAAAAAAQA/Z9y253tbfSY/s64/photo.jpg",
      "userId": "05303959975269029377"
     },
     "user_tz": -330
    },
    "id": "g2tMzIGd-S7e",
    "outputId": "966de599-0965-413b-f74a-a7aa0afc2003"
   },
   "outputs": [
    {
     "data": {
      "text/plain": [
       "price      0\n",
       "speed      0\n",
       "hd         0\n",
       "ram        0\n",
       "screen     0\n",
       "cd         0\n",
       "premium    0\n",
       "dtype: int64"
      ]
     },
     "execution_count": 4,
     "metadata": {},
     "output_type": "execute_result"
    }
   ],
   "source": [
    "train.isnull().sum()"
   ]
  },
  {
   "cell_type": "code",
   "execution_count": 5,
   "metadata": {
    "colab": {
     "base_uri": "https://localhost:8080/",
     "height": 206
    },
    "colab_type": "code",
    "executionInfo": {
     "elapsed": 1350,
     "status": "ok",
     "timestamp": 1564642902400,
     "user": {
      "displayName": "Anoop J",
      "photoUrl": "https://lh5.googleusercontent.com/-QjbdpwGYDpI/AAAAAAAAAAI/AAAAAAAAAQA/Z9y253tbfSY/s64/photo.jpg",
      "userId": "05303959975269029377"
     },
     "user_tz": -330
    },
    "id": "63sdsYmK-S7p",
    "outputId": "c3f1259a-885b-4260-e7d8-b9331d0c1761"
   },
   "outputs": [
    {
     "data": {
      "text/html": [
       "<div>\n",
       "<style scoped>\n",
       "    .dataframe tbody tr th:only-of-type {\n",
       "        vertical-align: middle;\n",
       "    }\n",
       "\n",
       "    .dataframe tbody tr th {\n",
       "        vertical-align: top;\n",
       "    }\n",
       "\n",
       "    .dataframe thead th {\n",
       "        text-align: right;\n",
       "    }\n",
       "</style>\n",
       "<table border=\"1\" class=\"dataframe\">\n",
       "  <thead>\n",
       "    <tr style=\"text-align: right;\">\n",
       "      <th></th>\n",
       "      <th>price</th>\n",
       "      <th>speed</th>\n",
       "      <th>hd</th>\n",
       "      <th>ram</th>\n",
       "      <th>screen</th>\n",
       "      <th>cd</th>\n",
       "      <th>premium</th>\n",
       "    </tr>\n",
       "  </thead>\n",
       "  <tbody>\n",
       "    <tr>\n",
       "      <th>0</th>\n",
       "      <td>1499</td>\n",
       "      <td>25</td>\n",
       "      <td>80</td>\n",
       "      <td>4</td>\n",
       "      <td>14</td>\n",
       "      <td>no</td>\n",
       "      <td>yes</td>\n",
       "    </tr>\n",
       "    <tr>\n",
       "      <th>1</th>\n",
       "      <td>1795</td>\n",
       "      <td>33</td>\n",
       "      <td>85</td>\n",
       "      <td>2</td>\n",
       "      <td>14</td>\n",
       "      <td>no</td>\n",
       "      <td>yes</td>\n",
       "    </tr>\n",
       "    <tr>\n",
       "      <th>2</th>\n",
       "      <td>1595</td>\n",
       "      <td>25</td>\n",
       "      <td>170</td>\n",
       "      <td>4</td>\n",
       "      <td>15</td>\n",
       "      <td>no</td>\n",
       "      <td>yes</td>\n",
       "    </tr>\n",
       "    <tr>\n",
       "      <th>3</th>\n",
       "      <td>1849</td>\n",
       "      <td>25</td>\n",
       "      <td>170</td>\n",
       "      <td>8</td>\n",
       "      <td>14</td>\n",
       "      <td>no</td>\n",
       "      <td>no</td>\n",
       "    </tr>\n",
       "    <tr>\n",
       "      <th>4</th>\n",
       "      <td>3295</td>\n",
       "      <td>33</td>\n",
       "      <td>340</td>\n",
       "      <td>16</td>\n",
       "      <td>14</td>\n",
       "      <td>no</td>\n",
       "      <td>yes</td>\n",
       "    </tr>\n",
       "  </tbody>\n",
       "</table>\n",
       "</div>"
      ],
      "text/plain": [
       "   price  speed   hd  ram  screen  cd premium\n",
       "0   1499     25   80    4      14  no     yes\n",
       "1   1795     33   85    2      14  no     yes\n",
       "2   1595     25  170    4      15  no     yes\n",
       "3   1849     25  170    8      14  no      no\n",
       "4   3295     33  340   16      14  no     yes"
      ]
     },
     "execution_count": 5,
     "metadata": {},
     "output_type": "execute_result"
    }
   ],
   "source": [
    "train.head()"
   ]
  },
  {
   "cell_type": "code",
   "execution_count": 6,
   "metadata": {
    "colab": {
     "base_uri": "https://localhost:8080/",
     "height": 86
    },
    "colab_type": "code",
    "executionInfo": {
     "elapsed": 1272,
     "status": "ok",
     "timestamp": 1564642902402,
     "user": {
      "displayName": "Anoop J",
      "photoUrl": "https://lh5.googleusercontent.com/-QjbdpwGYDpI/AAAAAAAAAAI/AAAAAAAAAQA/Z9y253tbfSY/s64/photo.jpg",
      "userId": "05303959975269029377"
     },
     "user_tz": -330
    },
    "id": "fQMN_KD3-S7v",
    "outputId": "f22b535f-a6a9-4e71-ca0b-dcd92d7b26e2"
   },
   "outputs": [
    {
     "name": "stdout",
     "output_type": "stream",
     "text": [
      "premium\n",
      "no       82\n",
      "yes    1417\n",
      "dtype: int64\n"
     ]
    }
   ],
   "source": [
    "df_train = pd.DataFrame()\n",
    "print((train.groupby('premium')).size())"
   ]
  },
  {
   "cell_type": "code",
   "execution_count": 7,
   "metadata": {
    "colab": {},
    "colab_type": "code",
    "id": "sMfpHL_2-S70"
   },
   "outputs": [],
   "source": [
    "prem={'yes':0,'no':1}\n",
    "cd_c={'yes':0,'no':1}"
   ]
  },
  {
   "cell_type": "code",
   "execution_count": 8,
   "metadata": {
    "colab": {},
    "colab_type": "code",
    "id": "wUwi3NTd-S75"
   },
   "outputs": [],
   "source": [
    "def clean_prem(x):\n",
    "    return prem[x]\n",
    "def clean_cd_c(x):\n",
    "    return cd_c[x]"
   ]
  },
  {
   "cell_type": "code",
   "execution_count": 9,
   "metadata": {
    "colab": {},
    "colab_type": "code",
    "id": "d1rdLehx-S79"
   },
   "outputs": [],
   "source": [
    "df_train['price']=train['price']\n",
    "df_train['speed']=train['speed']\n",
    "df_train['hd']=train['hd']\n",
    "df_train['ram']=train['ram']\n",
    "df_train['screen']=train['screen']\n",
    "df_train['cd']=train['cd'].apply(clean_cd_c)\n",
    "df_train['premium']=train['premium'].apply(clean_prem)"
   ]
  },
  {
   "cell_type": "code",
   "execution_count": 10,
   "metadata": {
    "colab": {
     "base_uri": "https://localhost:8080/",
     "height": 206
    },
    "colab_type": "code",
    "executionInfo": {
     "elapsed": 792,
     "status": "ok",
     "timestamp": 1564642902408,
     "user": {
      "displayName": "Anoop J",
      "photoUrl": "https://lh5.googleusercontent.com/-QjbdpwGYDpI/AAAAAAAAAAI/AAAAAAAAAQA/Z9y253tbfSY/s64/photo.jpg",
      "userId": "05303959975269029377"
     },
     "user_tz": -330
    },
    "id": "oVxjYR5N-S8C",
    "outputId": "61261655-f399-48c7-9dc3-09cdef6d5641"
   },
   "outputs": [
    {
     "data": {
      "text/html": [
       "<div>\n",
       "<style scoped>\n",
       "    .dataframe tbody tr th:only-of-type {\n",
       "        vertical-align: middle;\n",
       "    }\n",
       "\n",
       "    .dataframe tbody tr th {\n",
       "        vertical-align: top;\n",
       "    }\n",
       "\n",
       "    .dataframe thead th {\n",
       "        text-align: right;\n",
       "    }\n",
       "</style>\n",
       "<table border=\"1\" class=\"dataframe\">\n",
       "  <thead>\n",
       "    <tr style=\"text-align: right;\">\n",
       "      <th></th>\n",
       "      <th>price</th>\n",
       "      <th>speed</th>\n",
       "      <th>hd</th>\n",
       "      <th>ram</th>\n",
       "      <th>screen</th>\n",
       "      <th>cd</th>\n",
       "      <th>premium</th>\n",
       "    </tr>\n",
       "  </thead>\n",
       "  <tbody>\n",
       "    <tr>\n",
       "      <th>0</th>\n",
       "      <td>1499</td>\n",
       "      <td>25</td>\n",
       "      <td>80</td>\n",
       "      <td>4</td>\n",
       "      <td>14</td>\n",
       "      <td>1</td>\n",
       "      <td>0</td>\n",
       "    </tr>\n",
       "    <tr>\n",
       "      <th>1</th>\n",
       "      <td>1795</td>\n",
       "      <td>33</td>\n",
       "      <td>85</td>\n",
       "      <td>2</td>\n",
       "      <td>14</td>\n",
       "      <td>1</td>\n",
       "      <td>0</td>\n",
       "    </tr>\n",
       "    <tr>\n",
       "      <th>2</th>\n",
       "      <td>1595</td>\n",
       "      <td>25</td>\n",
       "      <td>170</td>\n",
       "      <td>4</td>\n",
       "      <td>15</td>\n",
       "      <td>1</td>\n",
       "      <td>0</td>\n",
       "    </tr>\n",
       "    <tr>\n",
       "      <th>3</th>\n",
       "      <td>1849</td>\n",
       "      <td>25</td>\n",
       "      <td>170</td>\n",
       "      <td>8</td>\n",
       "      <td>14</td>\n",
       "      <td>1</td>\n",
       "      <td>1</td>\n",
       "    </tr>\n",
       "    <tr>\n",
       "      <th>4</th>\n",
       "      <td>3295</td>\n",
       "      <td>33</td>\n",
       "      <td>340</td>\n",
       "      <td>16</td>\n",
       "      <td>14</td>\n",
       "      <td>1</td>\n",
       "      <td>0</td>\n",
       "    </tr>\n",
       "  </tbody>\n",
       "</table>\n",
       "</div>"
      ],
      "text/plain": [
       "   price  speed   hd  ram  screen  cd  premium\n",
       "0   1499     25   80    4      14   1        0\n",
       "1   1795     33   85    2      14   1        0\n",
       "2   1595     25  170    4      15   1        0\n",
       "3   1849     25  170    8      14   1        1\n",
       "4   3295     33  340   16      14   1        0"
      ]
     },
     "execution_count": 10,
     "metadata": {},
     "output_type": "execute_result"
    }
   ],
   "source": [
    "df_train.head()"
   ]
  },
  {
   "cell_type": "code",
   "execution_count": 11,
   "metadata": {
    "colab": {
     "base_uri": "https://localhost:8080/",
     "height": 34
    },
    "colab_type": "code",
    "executionInfo": {
     "elapsed": 1287,
     "status": "ok",
     "timestamp": 1564642903632,
     "user": {
      "displayName": "Anoop J",
      "photoUrl": "https://lh5.googleusercontent.com/-QjbdpwGYDpI/AAAAAAAAAAI/AAAAAAAAAQA/Z9y253tbfSY/s64/photo.jpg",
      "userId": "05303959975269029377"
     },
     "user_tz": -330
    },
    "id": "Wg-398cy-S8H",
    "outputId": "7c90cbdf-c3ab-4eb8-bc39-f0f6bc47c473"
   },
   "outputs": [
    {
     "name": "stdout",
     "output_type": "stream",
     "text": [
      "(1499, 7)\n"
     ]
    }
   ],
   "source": [
    "print(df_train.shape)"
   ]
  },
  {
   "cell_type": "code",
   "execution_count": 12,
   "metadata": {
    "colab": {
     "base_uri": "https://localhost:8080/",
     "height": 208
    },
    "colab_type": "code",
    "executionInfo": {
     "elapsed": 1297,
     "status": "ok",
     "timestamp": 1564642904143,
     "user": {
      "displayName": "Anoop J",
      "photoUrl": "https://lh5.googleusercontent.com/-QjbdpwGYDpI/AAAAAAAAAAI/AAAAAAAAAQA/Z9y253tbfSY/s64/photo.jpg",
      "userId": "05303959975269029377"
     },
     "user_tz": -330
    },
    "id": "9bT0VSbU-S8O",
    "outputId": "d7ace00b-a52d-4e0b-f41f-d27d23c506f3"
   },
   "outputs": [
    {
     "name": "stdout",
     "output_type": "stream",
     "text": [
      "             price        speed           hd          ram       screen  \\\n",
      "count  1499.000000  1499.000000  1499.000000  1499.000000  1499.000000   \n",
      "mean   2369.602402    44.272849   269.726484     7.012675    14.422949   \n",
      "std     624.745680    15.371010   150.546512     4.258249     0.787863   \n",
      "min     999.000000    25.000000    80.000000     2.000000    14.000000   \n",
      "25%    1899.000000    33.000000   170.000000     4.000000    14.000000   \n",
      "50%    2295.000000    33.000000   245.000000     8.000000    14.000000   \n",
      "75%    2720.000000    66.000000   340.000000     8.000000    15.000000   \n",
      "max    4999.000000    66.000000  1370.000000    16.000000    17.000000   \n",
      "\n",
      "                cd      premium  \n",
      "count  1499.000000  1499.000000  \n",
      "mean      0.845230     0.054703  \n",
      "std       0.361806     0.227476  \n",
      "min       0.000000     0.000000  \n",
      "25%       1.000000     0.000000  \n",
      "50%       1.000000     0.000000  \n",
      "75%       1.000000     0.000000  \n",
      "max       1.000000     1.000000  \n"
     ]
    }
   ],
   "source": [
    "print(df_train.describe()) "
   ]
  },
  {
   "cell_type": "code",
   "execution_count": 13,
   "metadata": {
    "colab": {
     "base_uri": "https://localhost:8080/",
     "height": 86
    },
    "colab_type": "code",
    "executionInfo": {
     "elapsed": 1220,
     "status": "ok",
     "timestamp": 1564642904145,
     "user": {
      "displayName": "Anoop J",
      "photoUrl": "https://lh5.googleusercontent.com/-QjbdpwGYDpI/AAAAAAAAAAI/AAAAAAAAAQA/Z9y253tbfSY/s64/photo.jpg",
      "userId": "05303959975269029377"
     },
     "user_tz": -330
    },
    "id": "qJXHnKS_-S8U",
    "outputId": "bb8670ca-5171-4bb7-8cf2-be64d7f421c4"
   },
   "outputs": [
    {
     "name": "stdout",
     "output_type": "stream",
     "text": [
      "premium\n",
      "0    1417\n",
      "1      82\n",
      "dtype: int64\n"
     ]
    }
   ],
   "source": [
    "print((df_train.groupby('premium')).size())"
   ]
  },
  {
   "cell_type": "code",
   "execution_count": 14,
   "metadata": {
    "colab": {
     "base_uri": "https://localhost:8080/",
     "height": 312
    },
    "colab_type": "code",
    "executionInfo": {
     "elapsed": 1651,
     "status": "ok",
     "timestamp": 1564642904672,
     "user": {
      "displayName": "Anoop J",
      "photoUrl": "https://lh5.googleusercontent.com/-QjbdpwGYDpI/AAAAAAAAAAI/AAAAAAAAAQA/Z9y253tbfSY/s64/photo.jpg",
      "userId": "05303959975269029377"
     },
     "user_tz": -330
    },
    "id": "vQZ0r4ty-S8Z",
    "outputId": "b6bcf375-cbd6-4f42-c38c-796a8a3e188b"
   },
   "outputs": [
    {
     "data": {
      "text/plain": [
       "[]"
      ]
     },
     "execution_count": 14,
     "metadata": {},
     "output_type": "execute_result"
    },
    {
     "data": {
      "image/png": "[encoded data removed]",
      "text/plain": [
       "<Figure size 432x288 with 1 Axes>"
      ]
     },
     "metadata": {
      "needs_background": "light"
     },
     "output_type": "display_data"
    }
   ],
   "source": [
    "plt.scatter(df_train['ram'], df_train['price'])\n",
    "plt.title('ram v/s Price Graph')\n",
    "plt.xlabel('ram')\n",
    "plt.ylabel('price')\n",
    "plt.plot()"
   ]
  },
  {
   "cell_type": "code",
   "execution_count": 38,
   "metadata": {
    "colab": {
     "base_uri": "https://localhost:8080/",
     "height": 139
    },
    "colab_type": "code",
    "executionInfo": {
     "elapsed": 1553,
     "status": "ok",
     "timestamp": 1564642904672,
     "user": {
      "displayName": "Anoop J",
      "photoUrl": "https://lh5.googleusercontent.com/-QjbdpwGYDpI/AAAAAAAAAAI/AAAAAAAAAQA/Z9y253tbfSY/s64/photo.jpg",
      "userId": "05303959975269029377"
     },
     "user_tz": -330
    },
    "id": "NzMXqX4F-S8d",
    "outputId": "32ba1a08-a5b8-48c6-d7b1-18c8a327cfd4"
   },
   "outputs": [
    {
     "name": "stdout",
     "output_type": "stream",
     "text": [
      "[[1499]\n",
      " [1795]\n",
      " [1595]\n",
      " ...\n",
      " [2895]\n",
      " [2029]\n",
      " [1699]]\n"
     ]
    }
   ],
   "source": [
    "Y = df_train.iloc[:,:-6].values\n",
    "Y.astype('int')\n",
    "print(Y)"
   ]
  },
  {
   "cell_type": "code",
   "execution_count": 53,
   "metadata": {
    "colab": {
     "base_uri": "https://localhost:8080/",
     "height": 139
    },
    "colab_type": "code",
    "executionInfo": {
     "elapsed": 1478,
     "status": "ok",
     "timestamp": 1564642904673,
     "user": {
      "displayName": "Anoop J",
      "photoUrl": "https://lh5.googleusercontent.com/-QjbdpwGYDpI/AAAAAAAAAAI/AAAAAAAAAQA/Z9y253tbfSY/s64/photo.jpg",
      "userId": "05303959975269029377"
     },
     "user_tz": -330
    },
    "id": "-iv2pH6l-S8h",
    "outputId": "6f55c786-b4e9-447f-acad-c3d742d06478"
   },
   "outputs": [
    {
     "name": "stdout",
     "output_type": "stream",
     "text": [
      "[[ 25  80   4  14   1   0]\n",
      " [ 33  85   2  14   1   0]\n",
      " [ 25 170   4  15   1   0]\n",
      " ...\n",
      " [ 50 528  16  14   1   0]\n",
      " [ 33 120   4  14   1   1]\n",
      " [ 33 210   4  15   1   0]]\n"
     ]
    }
   ],
   "source": [
    "df_train1 = df_train.copy()\n",
    "del df_train1['price']\n",
    "\n",
    "X=df_train1.iloc[::].values\n",
    "X.astype('int')\n",
    "print(X)"
   ]
  },
  {
   "cell_type": "code",
   "execution_count": 28,
   "metadata": {
    "colab": {
     "base_uri": "https://localhost:8080/",
     "height": 139
    },
    "colab_type": "code",
    "executionInfo": {
     "elapsed": 1425,
     "status": "ok",
     "timestamp": 1564642904674,
     "user": {
      "displayName": "Anoop J",
      "photoUrl": "https://lh5.googleusercontent.com/-QjbdpwGYDpI/AAAAAAAAAAI/AAAAAAAAAQA/Z9y253tbfSY/s64/photo.jpg",
      "userId": "05303959975269029377"
     },
     "user_tz": -330
    },
    "id": "f0Dypi5G-S8m",
    "outputId": "c914579d-2912-4edd-8a6a-5ea07bfeff52"
   },
   "outputs": [
    {
     "name": "stdout",
     "output_type": "stream",
     "text": [
      "[[-1.2542624  -1.26067219 -0.70772767 -0.53700937  0.4279132  -0.24055922]\n",
      " [-0.73362845 -1.22744878 -1.17756105 -0.53700937  0.4279132  -0.24055922]\n",
      " [-1.2542624  -0.66265079 -0.70772767  0.73267051  0.4279132  -0.24055922]\n",
      " ...\n",
      " [ 0.37271868  1.71614542  2.11127262 -0.53700937  0.4279132  -0.24055922]\n",
      " [-0.73362845 -0.9948849  -0.70772767 -0.53700937  0.4279132   4.15698061]\n",
      " [-0.73362845 -0.39686351 -0.70772767  0.73267051  0.4279132  -0.24055922]]\n"
     ]
    }
   ],
   "source": [
    "std_x = StandardScaler()\n",
    "std_y = StandardScaler()\n",
    "X = std_x.fit_transform(X)\n",
    "Y = std_y.fit_transform(Y)\n",
    "print(X)"
   ]
  },
  {
   "cell_type": "code",
   "execution_count": 29,
   "metadata": {
    "colab": {
     "base_uri": "https://localhost:8080/",
     "height": 139
    },
    "colab_type": "code",
    "executionInfo": {
     "elapsed": 944,
     "status": "ok",
     "timestamp": 1564642905738,
     "user": {
      "displayName": "Anoop J",
      "photoUrl": "https://lh5.googleusercontent.com/-QjbdpwGYDpI/AAAAAAAAAAI/AAAAAAAAAQA/Z9y253tbfSY/s64/photo.jpg",
      "userId": "05303959975269029377"
     },
     "user_tz": -330
    },
    "id": "5xkuSYp0-S8q",
    "outputId": "0845ead0-14b0-4ade-cc67-b3362a4feb72",
    "scrolled": true
   },
   "outputs": [
    {
     "name": "stdout",
     "output_type": "stream",
     "text": [
      "[[-0.73362845 -0.37028478 -0.70772767 -0.53700937  0.4279132  -0.24055922]\n",
      " [-1.2542624  -1.08126577 -1.17756105 -0.53700937  0.4279132  -0.24055922]\n",
      " [-0.73362845 -0.13107622  0.23193909 -0.53700937  0.4279132  -0.24055922]\n",
      " ...\n",
      " [-0.73362845  1.82910502  0.23193909 -0.53700937  0.4279132  -0.24055922]\n",
      " [ 1.41398657 -0.13107622 -0.70772767  0.73267051  0.4279132  -0.24055922]\n",
      " [ 1.41398657 -1.08126577 -1.17756105 -0.53700937  0.4279132  -0.24055922]]\n"
     ]
    }
   ],
   "source": [
    "train_X, test_X, train_Y, test_Y = train_test_split(X, Y, test_size=0.20, random_state=0)\n",
    "print(train_X)"
   ]
  },
  {
   "cell_type": "code",
   "execution_count": 30,
   "metadata": {
    "colab": {
     "base_uri": "https://localhost:8080/",
     "height": 139
    },
    "colab_type": "code",
    "executionInfo": {
     "elapsed": 874,
     "status": "ok",
     "timestamp": 1564642905739,
     "user": {
      "displayName": "Anoop J",
      "photoUrl": "https://lh5.googleusercontent.com/-QjbdpwGYDpI/AAAAAAAAAAI/AAAAAAAAAQA/Z9y253tbfSY/s64/photo.jpg",
      "userId": "05303959975269029377"
     },
     "user_tz": -330
    },
    "id": "620yCl4e-S8v",
    "outputId": "58f0b420-dac3-4693-97eb-9f9c20bc92c0"
   },
   "outputs": [
    {
     "name": "stdout",
     "output_type": "stream",
     "text": [
      "[[-0.73362845 -0.38357414  0.23193909  3.27203026  0.4279132  -0.24055922]\n",
      " [ 0.37271868 -0.39686351 -0.70772767  0.73267051  0.4279132  -0.24055922]\n",
      " [ 1.41398657 -0.37028478 -0.70772767 -0.53700937 -2.33692253 -0.24055922]\n",
      " ...\n",
      " [ 0.37271868 -0.13107622 -0.70772767 -0.53700937  0.4279132  -0.24055922]\n",
      " [-0.73362845 -1.08126577 -1.17756105 -0.53700937  0.4279132  -0.24055922]\n",
      " [ 1.41398657 -0.66265079 -0.70772767 -0.53700937  0.4279132  -0.24055922]]\n"
     ]
    }
   ],
   "source": [
    "print(test_X)"
   ]
  },
  {
   "cell_type": "code",
   "execution_count": 31,
   "metadata": {
    "colab": {
     "base_uri": "https://localhost:8080/",
     "height": 139
    },
    "colab_type": "code",
    "executionInfo": {
     "elapsed": 725,
     "status": "ok",
     "timestamp": 1564642905741,
     "user": {
      "displayName": "Anoop J",
      "photoUrl": "https://lh5.googleusercontent.com/-QjbdpwGYDpI/AAAAAAAAAAI/AAAAAAAAAQA/Z9y253tbfSY/s64/photo.jpg",
      "userId": "05303959975269029377"
     },
     "user_tz": -330
    },
    "id": "m0g9pNgE-S8z",
    "outputId": "346dc3ed-83b1-464a-e994-e4b154a87777"
   },
   "outputs": [
    {
     "name": "stdout",
     "output_type": "stream",
     "text": [
      "[[-0.28757676]\n",
      " [-1.16182404]\n",
      " [-0.23153527]\n",
      " ...\n",
      " [ 0.08870183]\n",
      " [-0.19951156]\n",
      " [-0.92004503]]\n"
     ]
    }
   ],
   "source": [
    "print(train_Y)"
   ]
  },
  {
   "cell_type": "code",
   "execution_count": 32,
   "metadata": {
    "colab": {
     "base_uri": "https://localhost:8080/",
     "height": 139
    },
    "colab_type": "code",
    "executionInfo": {
     "elapsed": 1013,
     "status": "ok",
     "timestamp": 1564642906101,
     "user": {
      "displayName": "Anoop J",
      "photoUrl": "https://lh5.googleusercontent.com/-QjbdpwGYDpI/AAAAAAAAAAI/AAAAAAAAAQA/Z9y253tbfSY/s64/photo.jpg",
      "userId": "05303959975269029377"
     },
     "user_tz": -330
    },
    "id": "NEv9gDeV-S85",
    "outputId": "dced5f9f-43dd-4ae5-d7e6-0a0232abd361"
   },
   "outputs": [
    {
     "name": "stdout",
     "output_type": "stream",
     "text": [
      "[[ 0.04066627]\n",
      " [ 0.32887966]\n",
      " [ 0.03906508]\n",
      " [-0.27316609]\n",
      " [-0.27957083]\n",
      " [-1.60215005]\n",
      " [ 1.80197031]\n",
      " [ 0.20718956]\n",
      " [ 0.37691522]\n",
      " [ 0.84125901]\n",
      " [-0.59340319]\n",
      " [-1.29792481]\n",
      " [-0.11945228]\n",
      " [ 0.67953928]\n",
      " [-1.24028213]\n",
      " [-1.04013394]\n",
      " [ 1.00778231]\n",
      " [-1.24028213]\n",
      " [-1.23387739]\n",
      " [ 1.80197031]\n",
      " [-1.23387739]\n",
      " [ 0.04707101]\n",
      " [ 0.99337164]\n",
      " [-0.76793241]\n",
      " [ 1.40007275]\n",
      " [-0.75992648]\n",
      " [-0.41727279]\n",
      " [-1.23387739]\n",
      " [-0.92805096]\n",
      " [-0.36123129]\n",
      " [-0.84158694]\n",
      " [ 0.51301599]\n",
      " [ 1.96208886]\n",
      " [-0.43328464]\n",
      " [-0.67986721]\n",
      " [-0.20111274]\n",
      " [ 2.77709228]\n",
      " [ 0.04707101]\n",
      " [ 0.67313454]\n",
      " [-0.23153527]\n",
      " [-1.16182404]\n",
      " [ 0.75959855]\n",
      " [ 0.99977638]\n",
      " [ 0.32887966]\n",
      " [ 0.99977638]\n",
      " [-1.16982997]\n",
      " [ 1.24635895]\n",
      " [ 0.37691522]\n",
      " [-0.27957083]\n",
      " [ 1.48173321]\n",
      " [-0.19310682]\n",
      " [ 1.22554353]\n",
      " [-1.32194259]\n",
      " [ 0.84766376]\n",
      " [-1.24028213]\n",
      " [-1.40040068]\n",
      " [-0.28757676]\n",
      " [-1.24188332]\n",
      " [-0.44769531]\n",
      " [ 0.11111843]\n",
      " [ 1.00137756]\n",
      " [-0.76152767]\n",
      " [-0.03458945]\n",
      " [-1.08176477]\n",
      " [-1.08016358]\n",
      " [-0.27957083]\n",
      " [ 1.15349019]\n",
      " [-0.68146839]\n",
      " [-0.59980793]\n",
      " [-0.11945228]\n",
      " [-0.43968938]\n",
      " [ 0.71316418]\n",
      " [-0.43968938]\n",
      " [-0.52134984]\n",
      " [ 2.6425927 ]\n",
      " [ 0.51301599]\n",
      " [ 1.96208886]\n",
      " [-1.28511533]\n",
      " [ 1.96849361]\n",
      " [-0.75992648]\n",
      " [ 1.48813796]\n",
      " [-0.92004503]\n",
      " [-0.75352174]\n",
      " [-0.55177237]\n",
      " [-1.07375884]\n",
      " [-0.59340319]\n",
      " [-0.75352174]\n",
      " [ 0.68754521]\n",
      " [-1.72063778]\n",
      " [-0.51334392]\n",
      " [-0.60140912]\n",
      " [ 0.04066627]\n",
      " [ 0.36730811]\n",
      " [ 0.52742666]\n",
      " [-0.12745821]\n",
      " [-0.71189092]\n",
      " [ 0.35289744]\n",
      " [ 0.56105155]\n",
      " [-0.59980793]\n",
      " [ 0.36730811]\n",
      " [-0.72149803]\n",
      " [-0.75352174]\n",
      " [-0.02338115]\n",
      " [ 2.12861215]\n",
      " [ 2.44244451]\n",
      " [-0.28117202]\n",
      " [-0.12745821]\n",
      " [-0.20111274]\n",
      " [-0.91364029]\n",
      " [-1.12499678]\n",
      " [-1.08816951]\n",
      " [ 1.48173321]\n",
      " [-0.28757676]\n",
      " [ 1.79396439]\n",
      " [-0.60781386]\n",
      " [ 1.48813796]\n",
      " [-0.59340319]\n",
      " [-1.40040068]\n",
      " [-0.28117202]\n",
      " [-0.63183164]\n",
      " [ 1.00137756]\n",
      " [ 0.11912436]\n",
      " [ 0.04707101]\n",
      " [-0.07141672]\n",
      " [-1.04013394]\n",
      " [-1.40840661]\n",
      " [ 2.28232596]\n",
      " [-0.35963011]\n",
      " [-0.59340319]\n",
      " [-0.51974866]\n",
      " [-0.59340319]\n",
      " [-0.76793241]\n",
      " [-0.20111274]\n",
      " [-1.39399594]\n",
      " [-0.75992648]\n",
      " [-2.11452941]\n",
      " [ 1.64825651]\n",
      " [ 0.68114047]\n",
      " [-1.23387739]\n",
      " [-0.43968938]\n",
      " [ 0.36730811]\n",
      " [ 0.71316418]\n",
      " [ 0.60108119]\n",
      " [-1.08176477]\n",
      " [-1.07375884]\n",
      " [-0.84158694]\n",
      " [ 0.52102192]\n",
      " [ 0.69715232]\n",
      " [ 1.07983565]\n",
      " [ 2.12220741]\n",
      " [-0.55177237]\n",
      " [-0.75992648]\n",
      " [ 0.84125901]\n",
      " [-0.20111274]\n",
      " [-0.75352174]\n",
      " [-1.00170549]\n",
      " [-1.16982997]\n",
      " [-0.95206874]\n",
      " [ 0.7435867 ]\n",
      " [ 0.36090337]\n",
      " [-1.39399594]\n",
      " [-0.19951156]\n",
      " [ 2.27271885]\n",
      " [-0.27957083]\n",
      " [-0.67506365]\n",
      " [ 0.51942073]\n",
      " [-1.56051923]\n",
      " [-0.92805096]\n",
      " [ 2.60256306]\n",
      " [ 2.08217778]\n",
      " [ 1.80837506]\n",
      " [ 0.04066627]\n",
      " [ 0.03266034]\n",
      " [ 0.92131829]\n",
      " [-0.27316609]\n",
      " [ 0.16876111]\n",
      " [ 2.59455713]\n",
      " [-1.2659011 ]\n",
      " [ 0.61709305]\n",
      " [-1.40040068]\n",
      " [-0.51974866]\n",
      " [-0.07141672]\n",
      " [-1.24028213]\n",
      " [ 1.00137756]\n",
      " [-0.59340319]\n",
      " [-1.08016358]\n",
      " [-1.04013394]\n",
      " [ 0.16876111]\n",
      " [-0.63183164]\n",
      " [ 1.09744869]\n",
      " [-0.43968938]\n",
      " [-0.28757676]\n",
      " [-1.08816951]\n",
      " [ 1.83399402]\n",
      " [ 0.35930218]\n",
      " [-0.43968938]\n",
      " [ 1.64825651]\n",
      " [-0.28117202]\n",
      " [ 0.43936146]\n",
      " [-0.59500438]\n",
      " [ 3.24303726]\n",
      " [-0.92164622]\n",
      " [-0.59340319]\n",
      " [ 0.66352742]\n",
      " [-0.67986721]\n",
      " [-0.51974866]\n",
      " [-0.91364029]\n",
      " [ 0.36730811]\n",
      " [-0.92805096]\n",
      " [ 1.80197031]\n",
      " [ 0.19277889]\n",
      " [-0.92004503]\n",
      " [-0.59340319]\n",
      " [-1.47405521]\n",
      " [-0.44129057]\n",
      " [-0.03458945]\n",
      " [-0.47171309]\n",
      " [-1.40040068]\n",
      " [ 0.84125901]\n",
      " [-1.24028213]\n",
      " [-0.59980793]\n",
      " [-0.59980793]\n",
      " [ 0.28084409]\n",
      " [-0.76793241]\n",
      " [-0.11945228]\n",
      " [-0.59980793]\n",
      " [ 1.80197031]\n",
      " [ 0.84125901]\n",
      " [-1.71423304]\n",
      " [-1.4420315 ]\n",
      " [-0.76793241]\n",
      " [-1.55411449]\n",
      " [ 0.27924291]\n",
      " [-0.60781386]\n",
      " [ 1.04941313]\n",
      " [ 0.51942073]\n",
      " [-1.56051923]\n",
      " [-1.08016358]\n",
      " [-0.59340319]\n",
      " [ 0.52102192]\n",
      " [ 0.67313454]\n",
      " [ 1.32001348]\n",
      " [-0.39165382]\n",
      " [-0.99530075]\n",
      " [-0.12745821]\n",
      " [ 0.03266034]\n",
      " [ 0.35289744]\n",
      " [ 0.05667812]\n",
      " [-1.36197223]\n",
      " [-0.12105347]\n",
      " [ 0.36730811]\n",
      " [ 0.51301599]\n",
      " [-0.92805096]\n",
      " [-0.27316609]\n",
      " [ 0.68114047]\n",
      " [ 0.76119974]\n",
      " [ 0.59948   ]\n",
      " [ 0.04066627]\n",
      " [-1.08016358]\n",
      " [-0.83998576]\n",
      " [ 1.00618112]\n",
      " [-0.86560473]\n",
      " [ 0.16876111]\n",
      " [-0.76793241]\n",
      " [-0.76793241]\n",
      " [-0.12745821]\n",
      " [ 0.96935385]\n",
      " [-0.52134984]\n",
      " [-0.28757676]\n",
      " [-0.76793241]\n",
      " [ 0.36090337]\n",
      " [ 0.68754521]\n",
      " [ 1.00137756]\n",
      " [-1.07375884]\n",
      " [ 0.20718956]\n",
      " [ 0.51301599]\n",
      " [ 2.28232596]\n",
      " [-0.75992648]\n",
      " [-1.24828806]\n",
      " [-1.55411449]\n",
      " [ 0.59948   ]\n",
      " [-1.32194259]\n",
      " [-0.59340319]\n",
      " [-0.945664  ]\n",
      " [-0.43968938]\n",
      " [ 0.36730811]\n",
      " [-0.92004503]\n",
      " [-1.40040068]\n",
      " [-0.27957083]\n",
      " [ 0.59948   ]\n",
      " [-1.55411449]\n",
      " [-0.99369957]\n",
      " [-0.34361825]\n",
      " [-1.24028213]\n",
      " [ 0.42495079]\n",
      " [ 0.85727087]\n",
      " [ 0.20078482]\n",
      " [-0.27957083]\n",
      " [-1.16182404]\n",
      " [-0.55177237]]\n"
     ]
    }
   ],
   "source": [
    "print(test_Y)"
   ]
  },
  {
   "cell_type": "code",
   "execution_count": 33,
   "metadata": {
    "colab": {},
    "colab_type": "code",
    "id": "AizyXxzg-S89"
   },
   "outputs": [],
   "source": [
    "regressor = LinearRegression()\n",
    "regressor.fit(train_X, train_Y)\n",
    "test_score= regressor.score(test_X, test_Y)\n",
    "training_score= regressor.score(train_X, train_Y)"
   ]
  },
  {
   "cell_type": "code",
   "execution_count": 34,
   "metadata": {
    "colab": {
     "base_uri": "https://localhost:8080/",
     "height": 52
    },
    "colab_type": "code",
    "executionInfo": {
     "elapsed": 1117,
     "status": "ok",
     "timestamp": 1564642907193,
     "user": {
      "displayName": "Anoop J",
      "photoUrl": "https://lh5.googleusercontent.com/-QjbdpwGYDpI/AAAAAAAAAAI/AAAAAAAAAQA/Z9y253tbfSY/s64/photo.jpg",
      "userId": "05303959975269029377"
     },
     "user_tz": -330
    },
    "id": "knqbBdIQ-S9B",
    "outputId": "b1359963-68c2-4fd2-94b9-c6e8f19bca5d"
   },
   "outputs": [
    {
     "name": "stdout",
     "output_type": "stream",
     "text": [
      "the training score is ..... 0.7614606233341564\n",
      "the testing score is ..... 0.719953802534739\n"
     ]
    }
   ],
   "source": [
    "print(\"the training score is .....\" ,training_score)\n",
    "print(\"the testing score is .....\" ,test_score)"
   ]
  },
  {
   "cell_type": "code",
   "execution_count": 35,
   "metadata": {
    "colab": {},
    "colab_type": "code",
    "id": "NWnMjVdP-S9G"
   },
   "outputs": [],
   "source": [
    "Y_pred =regressor.predict(test_X)\n",
    "rmse =np.sqrt(mean_squared_error(test_Y,Y_pred))"
   ]
  },
  {
   "cell_type": "code",
   "execution_count": 36,
   "metadata": {
    "colab": {
     "base_uri": "https://localhost:8080/",
     "height": 34
    },
    "colab_type": "code",
    "executionInfo": {
     "elapsed": 1077,
     "status": "ok",
     "timestamp": 1564643158748,
     "user": {
      "displayName": "Anoop J",
      "photoUrl": "https://lh5.googleusercontent.com/-QjbdpwGYDpI/AAAAAAAAAAI/AAAAAAAAAQA/Z9y253tbfSY/s64/photo.jpg",
      "userId": "05303959975269029377"
     },
     "user_tz": -330
    },
    "id": "mPNTGAEm_pcD",
    "outputId": "123e52af-95d9-4637-9190-01469e1fd59a"
   },
   "outputs": [
    {
     "name": "stdout",
     "output_type": "stream",
     "text": [
      "r2_score:  0.719953802534739\n"
     ]
    }
   ],
   "source": [
    "from sklearn.metrics import r2_score\n",
    "r2=r2_score(test_Y,Y_pred)\n",
    "print(\"r2_score: \",r2)"
   ]
  },
  {
   "cell_type": "code",
   "execution_count": 37,
   "metadata": {
    "colab": {
     "base_uri": "https://localhost:8080/",
     "height": 34
    },
    "colab_type": "code",
    "executionInfo": {
     "elapsed": 891,
     "status": "ok",
     "timestamp": 1564642907515,
     "user": {
      "displayName": "Anoop J",
      "photoUrl": "https://lh5.googleusercontent.com/-QjbdpwGYDpI/AAAAAAAAAAI/AAAAAAAAAQA/Z9y253tbfSY/s64/photo.jpg",
      "userId": "05303959975269029377"
     },
     "user_tz": -330
    },
    "id": "rbieFaJs-S9J",
    "outputId": "2199c2d1-89e1-4c5c-e9c3-692ab1105381"
   },
   "outputs": [
    {
     "name": "stdout",
     "output_type": "stream",
     "text": [
      "the Root Mean Square Error is ....  0.529494768526486\n"
     ]
    }
   ],
   "source": [
    "print(\"the Root Mean Square Error is .... \",rmse)"
   ]
  },
  {
   "cell_type": "code",
   "execution_count": 38,
   "metadata": {
    "colab": {
     "base_uri": "https://localhost:8080/",
     "height": 444
    },
    "colab_type": "code",
    "executionInfo": {
     "elapsed": 1175,
     "status": "ok",
     "timestamp": 1564642907865,
     "user": {
      "displayName": "Anoop J",
      "photoUrl": "https://lh5.googleusercontent.com/-QjbdpwGYDpI/AAAAAAAAAAI/AAAAAAAAAQA/Z9y253tbfSY/s64/photo.jpg",
      "userId": "05303959975269029377"
     },
     "user_tz": -330
    },
    "id": "MGDGQLy--S9O",
    "outputId": "28986256-6f04-478e-8a22-98a0392b8202"
   },
   "outputs": [
    {
     "data": {
      "text/plain": [
       "Text(0.1, 7, 'Rmse = 0.529495 Score =0.7614606233341564')"
      ]
     },
     "execution_count": 38,
     "metadata": {},
     "output_type": "execute_result"
    },
    {
     "data": {
      "image/png": "[encoded data removed]",
      "text/plain": [
       "<Figure size 432x288 with 1 Axes>"
      ]
     },
     "metadata": {
      "needs_background": "light"
     },
     "output_type": "display_data"
    }
   ],
   "source": [
    "%matplotlib inline\n",
    "plt.scatter(train_Y,regressor.predict(train_X),color='red',label='model predicted curve')\n",
    "plt.title('training set with whole feature')\n",
    "plt.xlabel('actual values of price')\n",
    "plt.ylabel('predicted value of price')\n",
    "plt.legend(loc='upper left')\n",
    "plt.text(0.1,7, 'Rmse = %f Score =%s' %(rmse,training_score))"
   ]
  },
  {
   "cell_type": "code",
   "execution_count": 39,
   "metadata": {
    "colab": {
     "base_uri": "https://localhost:8080/",
     "height": 515
    },
    "colab_type": "code",
    "executionInfo": {
     "elapsed": 1784,
     "status": "ok",
     "timestamp": 1564642908561,
     "user": {
      "displayName": "Anoop J",
      "photoUrl": "https://lh5.googleusercontent.com/-QjbdpwGYDpI/AAAAAAAAAAI/AAAAAAAAAQA/Z9y253tbfSY/s64/photo.jpg",
      "userId": "05303959975269029377"
     },
     "user_tz": -330
    },
    "id": "AcGln1pc-S9R",
    "outputId": "b11fdf90-6c09-4e11-c602-c1afcc77a0cb"
   },
   "outputs": [
    {
     "data": {
      "image/png": "[encoded data removed]",
      "text/plain": [
       "<Figure size 432x288 with 1 Axes>"
      ]
     },
     "metadata": {
      "needs_background": "light"
     },
     "output_type": "display_data"
    }
   ],
   "source": [
    "plt.scatter(test_Y,regressor.predict(test_X),color='blue',label='model predicted curve')\n",
    "plt.title('whole data testing data')\n",
    "plt.xlabel('actual value of price')\n",
    "plt.ylabel('predicted value of price')\n",
    "plt.xlim(-10, 10)\n",
    "plt.tight_layout()\n",
    "plt.legend(loc='upper left')\n",
    "plt.text(0.1,7, 'Rmse = %f \\n Score =%s' %(rmse,test_score))\n",
    "\n",
    "plt.show()"
   ]
  },
  {
   "cell_type": "code",
   "execution_count": 68,
   "metadata": {
    "colab": {},
    "colab_type": "code",
    "id": "VH0cbKG8-S9W"
   },
   "outputs": [
    {
     "name": "stdout",
     "output_type": "stream",
     "text": [
      "ENTER VALUE FOR\n",
      "\n",
      "speed\n",
      "25\n",
      "hd\n",
      "80\n",
      "ram\n",
      "4\n",
      "screen\n",
      "14\n",
      "cd\n",
      "0\n",
      "premium\n",
      "1\n",
      "Computer Price:\n",
      "[[48]]\n"
     ]
    }
   ],
   "source": [
    "naming=['speed','hd','ram','screen','cd','premium']\n",
    "B=[]\n",
    "print(\"ENTER VALUE FOR\\n\")\n",
    "for i in naming:\n",
    "  print(i)\n",
    "  B.append(input())\n",
    "X_value=np.reshape(B,(1, -1))\n",
    "getresult=LinearRegression()\n",
    "getresult.fit(train_X, train_Y)\n",
    "predictions=getresult.predict(X_value.astype('int'))\n",
    "print(\"Computer Price:\\r\")\n",
    "print(predictions.astype('int'))"
   ]
  },
  {
   "cell_type": "code",
   "execution_count": null,
   "metadata": {},
   "outputs": [],
   "source": []
  }
 ],
 "metadata": {
  "colab": {
   "name": "decisiontreereg.ipynb",
   "provenance": [],
   "version": "0.3.2"
  },
  "kernelspec": {
   "display_name": "Python 3",
   "language": "python",
   "name": "python3"
  },
  "language_info": {
   "codemirror_mode": {
    "name": "ipython",
    "version": 3
   },
   "file_extension": ".py",
   "mimetype": "text/x-python",
   "name": "python",
   "nbconvert_exporter": "python",
   "pygments_lexer": "ipython3",
   "version": "3.7.4"
  }
 },
 "nbformat": 4,
 "nbformat_minor": 1
}
